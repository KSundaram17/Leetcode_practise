{
 "cells": [
  {
   "cell_type": "code",
   "execution_count": 42,
   "id": "95e3f1c6",
   "metadata": {},
   "outputs": [],
   "source": [
    "def twoSum(nums, target):\n",
    "    \"\"\"\n",
    "    :type nums: List[int]\n",
    "    :type target: int\n",
    "    :rtype: List[int]\n",
    "    \"\"\"\n",
    "    i = 0\n",
    "    j = len(nums)-1\n",
    "    nums_sorted=sorted(nums)\n",
    "        \n",
    "    while (i<j):\n",
    "        print('start')\n",
    "        print(i,j)\n",
    "        if nums_sorted[i]+nums_sorted[j]==target:\n",
    "            print('in if')\n",
    "            print(nums_sorted[i],nums_sorted[j])\n",
    "            print(i,j)\n",
    "            return [nums.index(nums_sorted[i]), nums.index(nums_sorted[j])]\n",
    "        elif nums_sorted[i]+nums_sorted[j]<target:\n",
    "            print('in elif')\n",
    "            i+=1\n",
    "            print(i)\n",
    "        else:\n",
    "            print('in else')\n",
    "            j-=1 \n",
    "            print(j)\n",
    "    return []"
   ]
  },
  {
   "cell_type": "code",
   "execution_count": 46,
   "id": "22562a6b",
   "metadata": {},
   "outputs": [],
   "source": [
    "def twoSum(nums, target):\n",
    "    \"\"\"\n",
    "    :type nums: List[int]\n",
    "    :type target: int\n",
    "    :rtype: List[int]\n",
    "    \"\"\"\n",
    "    # Create a dictionary to store the indices of each value in the input list\n",
    "    index_dict = {}\n",
    "    for i, num in enumerate(nums):\n",
    "        print(i,num)\n",
    "        if num in index_dict:\n",
    "#             in first if-else loop\n",
    "            print(index_dict[num],i)\n",
    "            index_dict[num].append(i)\n",
    "        else:\n",
    "#             print(index_dict[num],i)\n",
    "            index_dict[num] = [i]\n",
    "    \n",
    "    # Sort the input list and initialize two pointers\n",
    "    sorted_nums = sorted(nums)\n",
    "    left, right = 0, len(sorted_nums) - 1\n",
    "    \n",
    "    # Move the pointers inward until a solution is found\n",
    "    while left < right:\n",
    "        current_sum = sorted_nums[left] + sorted_nums[right]\n",
    "        if current_sum == target:\n",
    "            # Retrieve the indices of the two values from the dictionary and return them\n",
    "            return [index_dict[sorted_nums[left]].pop(0), index_dict[sorted_nums[right]].pop(0)]\n",
    "        elif current_sum < target:\n",
    "            left += 1\n",
    "        else:\n",
    "            right -= 1\n",
    "    \n",
    "    # If no solution is found, return an empty list\n",
    "    return []\n"
   ]
  },
  {
   "cell_type": "code",
   "execution_count": 63,
   "id": "6467cc4c",
   "metadata": {},
   "outputs": [],
   "source": [
    "def twoSum(nums, target):\n",
    "    prevMap = {} # val : index\n",
    "    for i, n in enumerate(nums):\n",
    "        diff = target - n\n",
    "        if diff in prevMap:\n",
    "            return [prevMap[diff], i]\n",
    "        prevMap[n] = i\n",
    "    return"
   ]
  },
  {
   "cell_type": "code",
   "execution_count": 66,
   "id": "a0648f63",
   "metadata": {},
   "outputs": [
    {
     "name": "stdout",
     "output_type": "stream",
     "text": [
      "0 : index 2 : value\n",
      "7\n",
      "loop starts\n",
      "in else loop\n",
      "{2: 0} 2 0\n",
      "1 : index 7 : value\n",
      "2\n",
      "loop starts\n",
      "in if loop\n",
      "prevMap current value is:  {2: 0}\n",
      "0\n",
      "1\n",
      "prevMap current value now:  {2: 0}\n",
      "0 : index 3 : value\n",
      "3\n",
      "loop starts\n",
      "in else loop\n",
      "{3: 0} 3 0\n",
      "1 : index 2 : value\n",
      "4\n",
      "loop starts\n",
      "in else loop\n",
      "{3: 0, 2: 1} 2 1\n",
      "2 : index 4 : value\n",
      "2\n",
      "loop starts\n",
      "in if loop\n",
      "prevMap current value is:  {3: 0, 2: 1}\n",
      "1\n",
      "2\n",
      "prevMap current value now:  {3: 0, 2: 1}\n"
     ]
    },
    {
     "data": {
      "text/plain": [
       "[1, 2]"
      ]
     },
     "execution_count": 66,
     "metadata": {},
     "output_type": "execute_result"
    }
   ],
   "source": [
    "twoSum(nums = [2,7,11,15], target = 9)\n",
    "twoSum(nums = [3,2,4], target = 6)"
   ]
  },
  {
   "cell_type": "code",
   "execution_count": 65,
   "id": "7fa38dca",
   "metadata": {},
   "outputs": [
    {
     "name": "stdout",
     "output_type": "stream",
     "text": [
      "0 : index 3 : value\n",
      "3\n",
      "loop starts\n",
      "in else loop\n",
      "{3: 0} 3 0\n",
      "1 : index 3 : value\n",
      "3\n",
      "loop starts\n",
      "in if loop\n",
      "prevMap current value is:  {3: 0}\n",
      "0\n",
      "1\n",
      "prevMap current value now:  {3: 0}\n"
     ]
    },
    {
     "data": {
      "text/plain": [
       "[0, 1]"
      ]
     },
     "execution_count": 65,
     "metadata": {},
     "output_type": "execute_result"
    }
   ],
   "source": [
    "twoSum(nums = [3,3], target = 6)"
   ]
  },
  {
   "cell_type": "code",
   "execution_count": 71,
   "id": "3ee6a5c0",
   "metadata": {},
   "outputs": [],
   "source": [
    " def isPalindrome(x):\n",
    "    \"\"\"\n",
    "    :type x: int\n",
    "    :rtype: bool\n",
    "    \"\"\"\n",
    "    str_x = str(x)\n",
    "    palindrome = str_x[::-1]\n",
    "    if x==palindrome:\n",
    "        return True\n",
    "    else:\n",
    "        return False"
   ]
  },
  {
   "cell_type": "code",
   "execution_count": 72,
   "id": "58607f84",
   "metadata": {},
   "outputs": [
    {
     "data": {
      "text/plain": [
       "False"
      ]
     },
     "execution_count": 72,
     "metadata": {},
     "output_type": "execute_result"
    }
   ],
   "source": [
    "isPalindrome(-121)"
   ]
  },
  {
   "cell_type": "code",
   "execution_count": 82,
   "id": "ce624f2e",
   "metadata": {},
   "outputs": [],
   "source": [
    "def romanToInt(s):\n",
    "        \"\"\"\n",
    "        :type s: str\n",
    "        :rtype: int\n",
    "        \"\"\"\n",
    "        symbol_map = {'I':1,\n",
    "        'V':5,\n",
    "        'X':10,\n",
    "        'L':50,\n",
    "        'C':100,\n",
    "        'D':500,\n",
    "        'M':1000}\n",
    "        i =0\n",
    "        total_num=0\n",
    "        n= len(s)\n",
    "\n",
    "        while i <n:\n",
    "            if i<n-1 and s[i]=='I' and (s[i+1]=='V' or s[i+1]=='X'):\n",
    "                total_num+= symbol_map[s[i+1]]-symbol_map[s[i]]\n",
    "                i+=2\n",
    "\n",
    "            elif i<n-1 and s[i]=='X' and (s[i+1]=='L' or s[i+1]=='C'):\n",
    "                total_num+= symbol_map[s[i+1]]-symbol_map[s[i]]\n",
    "                i+=2\n",
    "            elif i<n-1 and s[i]=='C' and (s[i+1]=='D' or s[i+1]=='M'):\n",
    "                total_num += symbol_map[s[i+1]]-symbol_map[s[i]]\n",
    "                i+=2\n",
    "            \n",
    "            else:\n",
    "                total_num += symbol_map[s[i]]\n",
    "                i+=1\n",
    "        return total_num"
   ]
  },
  {
   "cell_type": "code",
   "execution_count": 83,
   "id": "db3b618d",
   "metadata": {},
   "outputs": [
    {
     "data": {
      "text/plain": [
       "14"
      ]
     },
     "execution_count": 83,
     "metadata": {},
     "output_type": "execute_result"
    }
   ],
   "source": [
    "romanToInt('XIV')"
   ]
  },
  {
   "cell_type": "code",
   "execution_count": 85,
   "id": "d66b16d4",
   "metadata": {},
   "outputs": [],
   "source": [
    "def longestCommonPrefix(strs):\n",
    "        \"\"\"\n",
    "        :type strs: List[str]\n",
    "        :rtype: str\n",
    "        \"\"\"\n",
    "        prefix =strs[0]\n",
    "        if len(strs)==0:\n",
    "            return \"\"\n",
    "        for s in strs:\n",
    "            while not s.startswith(prefix):\n",
    "                prefix = prefix[:-1]\n",
    "                \n",
    "            if not prefix:\n",
    "                return \"\"\n",
    "        return prefix\n",
    "        \n"
   ]
  },
  {
   "cell_type": "code",
   "execution_count": 86,
   "id": "f467dec3",
   "metadata": {},
   "outputs": [
    {
     "data": {
      "text/plain": [
       "'fl'"
      ]
     },
     "execution_count": 86,
     "metadata": {},
     "output_type": "execute_result"
    }
   ],
   "source": [
    "longestCommonPrefix(strs = [\"flower\",\"flow\",\"flight\"])"
   ]
  },
  {
   "cell_type": "code",
   "execution_count": 110,
   "id": "4925812d",
   "metadata": {},
   "outputs": [],
   "source": [
    "def isValid(s):\n",
    "        \"\"\"\n",
    "        :type s: str\n",
    "        :rtype: bool\n",
    "        \"\"\"\n",
    "        stack=[]\n",
    "        mappings={')':'(','}':'{',']':'['}\n",
    "        \n",
    "        for i in s:\n",
    "            if i in mappings:\n",
    "                if not stack or stack.pop()!=mappings[i]:\n",
    "                    return False\n",
    "            else:\n",
    "                stack.append(i)\n",
    "        return not stack"
   ]
  },
  {
   "cell_type": "code",
   "execution_count": 111,
   "id": "72100ba7",
   "metadata": {},
   "outputs": [
    {
     "data": {
      "text/plain": [
       "True"
      ]
     },
     "execution_count": 111,
     "metadata": {},
     "output_type": "execute_result"
    }
   ],
   "source": [
    "isValid(s = \"()\")"
   ]
  },
  {
   "cell_type": "code",
   "execution_count": 113,
   "id": "8d373d7e",
   "metadata": {},
   "outputs": [],
   "source": [
    "# Input: list1 = [1,2,4], list2 = [1,3,4]\n",
    "# Output: [1,1,2,3,4,4]\n",
    "def merged_list(list1,list2):\n",
    "    if len(list1)==0 and len(list2)==0:\n",
    "        return []\n",
    "    else:\n",
    "        final_merged_list = list1+list2\n",
    "        final_merged_list = sorted(final_merged_list)\n",
    "    return final_merged_list"
   ]
  },
  {
   "cell_type": "code",
   "execution_count": 114,
   "id": "922889c3",
   "metadata": {},
   "outputs": [
    {
     "data": {
      "text/plain": [
       "[1, 1, 2, 3, 4, 4]"
      ]
     },
     "execution_count": 114,
     "metadata": {},
     "output_type": "execute_result"
    }
   ],
   "source": [
    "merged_list(list1 = [1,2,4], list2 = [1,3,4])"
   ]
  },
  {
   "cell_type": "code",
   "execution_count": 115,
   "id": "a69527c5",
   "metadata": {},
   "outputs": [
    {
     "data": {
      "text/plain": [
       "[]"
      ]
     },
     "execution_count": 115,
     "metadata": {},
     "output_type": "execute_result"
    }
   ],
   "source": [
    "merged_list(list1 = [], list2 = [])"
   ]
  },
  {
   "cell_type": "code",
   "execution_count": 116,
   "id": "38cac881",
   "metadata": {},
   "outputs": [
    {
     "data": {
      "text/plain": [
       "[0]"
      ]
     },
     "execution_count": 116,
     "metadata": {},
     "output_type": "execute_result"
    }
   ],
   "source": [
    "merged_list(list1 = [], list2 = [0])"
   ]
  },
  {
   "cell_type": "code",
   "execution_count": 168,
   "id": "70c16760",
   "metadata": {},
   "outputs": [],
   "source": [
    "def removeDuplicates(nums):\n",
    "        \"\"\"\n",
    "        :type nums: List[int]\n",
    "        :rtype: int\n",
    "        \"\"\"\n",
    "        seen = set(nums)\n",
    "        max_length = max(len(nums), len([seen]))\n",
    "        print(max_length)\n",
    "        seen =list(seen)\n",
    "        print(seen)\n",
    "        new_list = []\n",
    "        for i in range(max_length):\n",
    "            if i < len(seen) and i < len(nums):\n",
    "                new_list.append(seen[i])\n",
    "            else:\n",
    "                new_list.append('_')\n",
    "        return new_list"
   ]
  },
  {
   "cell_type": "code",
   "execution_count": 169,
   "id": "8fdddd8f",
   "metadata": {
    "scrolled": false
   },
   "outputs": [
    {
     "name": "stdout",
     "output_type": "stream",
     "text": [
      "10\n",
      "[0, 1, 2, 3, 4]\n"
     ]
    },
    {
     "data": {
      "text/plain": [
       "[0, 1, 2, 3, 4, '_', '_', '_', '_', '_']"
      ]
     },
     "execution_count": 169,
     "metadata": {},
     "output_type": "execute_result"
    }
   ],
   "source": [
    "removeDuplicates(nums = [0,0,1,1,1,2,2,3,3,4])"
   ]
  },
  {
   "cell_type": "code",
   "execution_count": 179,
   "id": "f5d82476",
   "metadata": {},
   "outputs": [],
   "source": [
    "# in-place remove duplicates\n",
    "def removeDuplicates(nums):\n",
    "        \"\"\"\n",
    "        :type nums: List[int]\n",
    "        :rtype: int\n",
    "        \"\"\"\n",
    "        if len(nums)==0:\n",
    "            return 0\n",
    "        i=0\n",
    "        for j in range(1,len(nums)):\n",
    "            if nums[i]!= nums[j]:\n",
    "                i+=1\n",
    "                nums[i]=nums[j]\n",
    "        return i+1"
   ]
  },
  {
   "cell_type": "code",
   "execution_count": 180,
   "id": "89fa5dee",
   "metadata": {},
   "outputs": [
    {
     "data": {
      "text/plain": [
       "(5, [0, 1, 2, 3, 4, 2, 2, 3, 3, 4])"
      ]
     },
     "execution_count": 180,
     "metadata": {},
     "output_type": "execute_result"
    }
   ],
   "source": [
    "removeDuplicates(nums = [0,0,1,1,1,2,2,3,3,4])"
   ]
  },
  {
   "cell_type": "code",
   "execution_count": 210,
   "id": "3c0841a1",
   "metadata": {},
   "outputs": [],
   "source": [
    "# Input: nums = [3,2,2,3], val = 3\n",
    "# Output: 2, nums = [2,2,_,_]\n",
    "# Explanation: Your function should return k = 2, with the first two elements of nums being 2.\n",
    "# It does not matter what you leave beyond the returned k (hence they are underscores).\n",
    "def removeElement(nums, val):\n",
    "    if len(nums)==0:\n",
    "        return 0\n",
    "    i=0\n",
    "    for j in range(len(nums)):\n",
    "        print(j)\n",
    "        print('***')\n",
    "        print(nums[j])\n",
    "        if nums[j]!=val:\n",
    "            nums[i]=nums[j]\n",
    "            i+=1\n",
    "    return i,nums"
   ]
  },
  {
   "cell_type": "code",
   "execution_count": 211,
   "id": "ee8c2381",
   "metadata": {},
   "outputs": [
    {
     "name": "stdout",
     "output_type": "stream",
     "text": [
      "0\n",
      "***\n",
      "3\n",
      "1\n",
      "***\n",
      "2\n",
      "2\n",
      "***\n",
      "2\n",
      "3\n",
      "***\n",
      "3\n"
     ]
    },
    {
     "data": {
      "text/plain": [
       "(2, [2, 2, 2, 3])"
      ]
     },
     "execution_count": 211,
     "metadata": {},
     "output_type": "execute_result"
    }
   ],
   "source": [
    "removeElement(nums = [3,2,2,3], val = 3)"
   ]
  },
  {
   "cell_type": "code",
   "execution_count": 225,
   "id": "41446a76",
   "metadata": {},
   "outputs": [],
   "source": [
    "def strStr(haystack, needle):\n",
    "        \"\"\"\n",
    "        :type haystack: str\n",
    "        :type needle: str\n",
    "        :rtype: int\n",
    "        \"\"\"\n",
    "        haystack = haystack.lower()\n",
    "        needle= needle.lower()\n",
    "        if needle in haystack:\n",
    "            return haystack.index(needle)\n",
    "        else:\n",
    "            return -1"
   ]
  },
  {
   "cell_type": "code",
   "execution_count": 226,
   "id": "c07e05d3",
   "metadata": {},
   "outputs": [
    {
     "data": {
      "text/plain": [
       "0"
      ]
     },
     "execution_count": 226,
     "metadata": {},
     "output_type": "execute_result"
    }
   ],
   "source": [
    "strStr(haystack = \"sadbutsad\", needle = \"sad\")"
   ]
  },
  {
   "cell_type": "code",
   "execution_count": 227,
   "id": "942298d8",
   "metadata": {},
   "outputs": [
    {
     "data": {
      "text/plain": [
       "-1"
      ]
     },
     "execution_count": 227,
     "metadata": {},
     "output_type": "execute_result"
    }
   ],
   "source": [
    "strStr(haystack = \"leetcode\", needle = \"leeto\")"
   ]
  },
  {
   "cell_type": "code",
   "execution_count": 27,
   "id": "97ff48f4",
   "metadata": {},
   "outputs": [],
   "source": [
    "def lengthOfLastWord(s):\n",
    "        \"\"\"\n",
    "        :type s: str\n",
    "        :rtype: int\n",
    "        \"\"\"\n",
    "        s= s.strip()\n",
    "        last_word=s.split(\" \")\n",
    "        length = len(last_word[-1])\n",
    "        return length"
   ]
  },
  {
   "cell_type": "code",
   "execution_count": 28,
   "id": "f82c7d84",
   "metadata": {},
   "outputs": [
    {
     "data": {
      "text/plain": [
       "5"
      ]
     },
     "execution_count": 28,
     "metadata": {},
     "output_type": "execute_result"
    }
   ],
   "source": [
    "lengthOfLastWord(s = \"Hello World\")"
   ]
  },
  {
   "cell_type": "code",
   "execution_count": 47,
   "id": "008e8011",
   "metadata": {},
   "outputs": [],
   "source": [
    "def plusOne(digits):\n",
    "        \"\"\"\n",
    "        :type digits: List[int]\n",
    "        :rtype: List[int]\n",
    "        \"\"\"\n",
    "        if digits==[9]:\n",
    "            last_digit = int(digits[0])+1\n",
    "            return ([int(char) for char in str(last_digit)])\n",
    "        else:\n",
    "            last_digit = digits[-1]+1\n",
    "            new_digits= digits[:-1]+[last_digit]\n",
    "            return new_digits\n",
    "        "
   ]
  },
  {
   "cell_type": "code",
   "execution_count": 48,
   "id": "c7418396",
   "metadata": {},
   "outputs": [
    {
     "data": {
      "text/plain": [
       "[1, 2, 4]"
      ]
     },
     "execution_count": 48,
     "metadata": {},
     "output_type": "execute_result"
    }
   ],
   "source": [
    "plusOne(digits = [1,2,3])"
   ]
  },
  {
   "cell_type": "code",
   "execution_count": 49,
   "id": "ef8f431a",
   "metadata": {},
   "outputs": [
    {
     "data": {
      "text/plain": [
       "[4, 3, 2, 2]"
      ]
     },
     "execution_count": 49,
     "metadata": {},
     "output_type": "execute_result"
    }
   ],
   "source": [
    "plusOne(digits = [4,3,2,1])"
   ]
  },
  {
   "cell_type": "code",
   "execution_count": 50,
   "id": "09e607c4",
   "metadata": {},
   "outputs": [
    {
     "data": {
      "text/plain": [
       "[1, 0]"
      ]
     },
     "execution_count": 50,
     "metadata": {},
     "output_type": "execute_result"
    }
   ],
   "source": [
    "plusOne(digits = [9])"
   ]
  },
  {
   "cell_type": "code",
   "execution_count": null,
   "id": "a277ad68",
   "metadata": {},
   "outputs": [],
   "source": [
    "def plusOne(self, digits):\n",
    "        \"\"\"\n",
    "        :type digits: List[int]\n",
    "        :rtype: List[int]\n",
    "        \"\"\"\n",
    "        n = len(digits)\n",
    "        if digits == [9] * n:\n",
    "            return [1] + [0] * n\n",
    "         for i in range(n - 1, -1, -1):\n",
    "            if digits[i] < 9:\n",
    "                digits[i] += 1\n",
    "                return digits\n",
    "            digits[i] = 0\n",
    "        return [1] + [0] * n\n"
   ]
  },
  {
   "cell_type": "code",
   "execution_count": 75,
   "id": "6dbed61d",
   "metadata": {},
   "outputs": [],
   "source": [
    "def addBinary(a, b):\n",
    "    a = int(a,2)\n",
    "    b = int(b,2)\n",
    "    c = a+b\n",
    "    return (bin(c)[2:])\n",
    "    "
   ]
  },
  {
   "cell_type": "code",
   "execution_count": 76,
   "id": "02e12ba4",
   "metadata": {},
   "outputs": [
    {
     "name": "stdout",
     "output_type": "stream",
     "text": [
      "100\n"
     ]
    }
   ],
   "source": [
    "addBinary(a = \"11\", b = \"1\")"
   ]
  },
  {
   "cell_type": "code",
   "execution_count": 103,
   "id": "b8562ccd",
   "metadata": {},
   "outputs": [],
   "source": [
    "def mySqrt(number):\n",
    "        \"\"\"\n",
    "        :type x: int\n",
    "        :rtype: int\n",
    "        \"\"\"\n",
    "        precision=1e-10\n",
    "        if number < 0:\n",
    "            raise ValueError(\"Cannot find the square root of a negative number\")\n",
    "\n",
    "        if number == 0 or number == 1:\n",
    "            return number\n",
    "\n",
    "        # Initial guess\n",
    "        x = number / 2\n",
    "\n",
    "        # Repeatedly update the approximation\n",
    "        while True:\n",
    "            # Update the approximation\n",
    "            next_x = (x + number / x) / 2\n",
    "\n",
    "            # Check if the desired precision has been reached\n",
    "            if abs(next_x - x) < precision:\n",
    "                break\n",
    "\n",
    "            x = next_x\n",
    "        return math.floor(x)"
   ]
  },
  {
   "cell_type": "code",
   "execution_count": 105,
   "id": "83678569",
   "metadata": {},
   "outputs": [
    {
     "data": {
      "text/plain": [
       "2"
      ]
     },
     "execution_count": 105,
     "metadata": {},
     "output_type": "execute_result"
    }
   ],
   "source": [
    "import math\n",
    "mySqrt(4)"
   ]
  },
  {
   "cell_type": "code",
   "execution_count": null,
   "id": "64d9f5bc",
   "metadata": {},
   "outputs": [],
   "source": [
    "def mySqrt(x):\n",
    "    \"\"\"\n",
    "    :type x: int\n",
    "    :rtype: int\n",
    "    \"\"\"\n",
    "    if x == 0:\n",
    "        return 0\n",
    "    \n",
    "    left, right = 1, x\n",
    "    while left <= right:\n",
    "        mid = left + (right - left) // 2\n",
    "        if mid * mid == x:\n",
    "            return mid\n",
    "        elif mid * mid < x:\n",
    "            left = mid + 1\n",
    "        else:\n",
    "            right = mid - 1\n",
    "    \n",
    "    return right"
   ]
  },
  {
   "cell_type": "code",
   "execution_count": 5,
   "id": "7ca2c8db",
   "metadata": {},
   "outputs": [],
   "source": [
    "def climbStairs(n):\n",
    "        \"\"\"\n",
    "        :type n: int\n",
    "        :rtype: int\n",
    "        \"\"\"\n",
    "        if n==1:\n",
    "            return 1\n",
    "        if n==2:\n",
    "            return 2\n",
    "        prev1=1\n",
    "        prev2=2\n",
    "        for i in range(3,n+1):\n",
    "            print('start')\n",
    "            curr= prev1+prev2\n",
    "            print(curr)\n",
    "            prev1=prev2\n",
    "            print(prev1)\n",
    "            prev2=curr\n",
    "            print(prev2)\n",
    "            print('end')\n",
    "        return curr"
   ]
  },
  {
   "cell_type": "code",
   "execution_count": 6,
   "id": "6c95b9eb",
   "metadata": {},
   "outputs": [
    {
     "name": "stdout",
     "output_type": "stream",
     "text": [
      "start\n",
      "3\n",
      "2\n",
      "3\n",
      "end\n"
     ]
    },
    {
     "data": {
      "text/plain": [
       "3"
      ]
     },
     "execution_count": 6,
     "metadata": {},
     "output_type": "execute_result"
    }
   ],
   "source": [
    "climbStairs(n = 3)"
   ]
  },
  {
   "cell_type": "code",
   "execution_count": 7,
   "id": "872efd76",
   "metadata": {},
   "outputs": [],
   "source": [
    "def climbStairs(n: int) -> int:\n",
    "    if n == 1:\n",
    "        return 1\n",
    "    if n == 2:\n",
    "        return 2\n",
    "    dp = [0] * (n + 1)\n",
    "    print(dp)\n",
    "    dp[1] = 1\n",
    "    dp[2] = 2\n",
    "    for i in range(3, n + 1):\n",
    "        dp[i] = dp[i - 1] + dp[i - 2]\n",
    "        print(dp[i],dp[i-1],dp[i-2])\n",
    "        print(dp[n])\n",
    "    return dp[n]"
   ]
  },
  {
   "cell_type": "code",
   "execution_count": 9,
   "id": "035e8288",
   "metadata": {},
   "outputs": [
    {
     "name": "stdout",
     "output_type": "stream",
     "text": [
      "[0, 0, 0, 0, 0, 0]\n",
      "3 2 1\n",
      "0\n",
      "5 3 2\n",
      "0\n",
      "8 5 3\n",
      "8\n"
     ]
    },
    {
     "data": {
      "text/plain": [
       "8"
      ]
     },
     "execution_count": 9,
     "metadata": {},
     "output_type": "execute_result"
    }
   ],
   "source": [
    "climbStairs(n = 5)"
   ]
  },
  {
   "cell_type": "code",
   "execution_count": 101,
   "id": "9bae4550",
   "metadata": {},
   "outputs": [],
   "source": [
    "def merge(nums1, m, nums2, n):\n",
    "        \"\"\"\n",
    "        :type nums1: List[int]\n",
    "        :type m: int\n",
    "        :type nums2: List[int]\n",
    "        :type n: int\n",
    "        :rtype: None Do not return anything, modify nums1 in-place instead.\n",
    "        \"\"\"\n",
    "        p1,p2,p=m-1,n-1,m+n-1\n",
    "        while p1>=0 and p2>=0:\n",
    "            if nums1[p1]>nums2[p2]:\n",
    "                nums1[p]=nums1[p1]\n",
    "                p1-=1\n",
    "            else:\n",
    "                nums1[p]=nums2[p2]\n",
    "                p2-=1\n",
    "            p-=1\n",
    "        nums1[:p2 + 1] = nums2[:p2 + 1]\n",
    "        return nums1\n",
    "        "
   ]
  },
  {
   "cell_type": "code",
   "execution_count": 102,
   "id": "d73bd77b",
   "metadata": {},
   "outputs": [
    {
     "data": {
      "text/plain": [
       "[1, 2, 2, 3, 5, 6]"
      ]
     },
     "execution_count": 102,
     "metadata": {},
     "output_type": "execute_result"
    }
   ],
   "source": [
    "merge(nums1 = [1,2,3,0,0,0], m = 3, nums2 = [2,5,6], n = 3)"
   ]
  },
  {
   "cell_type": "code",
   "execution_count": 103,
   "id": "46bbae63",
   "metadata": {},
   "outputs": [
    {
     "data": {
      "text/plain": [
       "[1]"
      ]
     },
     "execution_count": 103,
     "metadata": {},
     "output_type": "execute_result"
    }
   ],
   "source": [
    "merge(nums1 = [1], m = 1, nums2 = [], n = 0)"
   ]
  },
  {
   "cell_type": "code",
   "execution_count": 104,
   "id": "ca43424f",
   "metadata": {},
   "outputs": [
    {
     "data": {
      "text/plain": [
       "[1]"
      ]
     },
     "execution_count": 104,
     "metadata": {},
     "output_type": "execute_result"
    }
   ],
   "source": [
    "merge(nums1 = [0], m = 0, nums2 = [1], n = 1)"
   ]
  },
  {
   "cell_type": "code",
   "execution_count": 42,
   "id": "9e3538b4",
   "metadata": {},
   "outputs": [],
   "source": [
    "# nums1 = nums1+[0]*n\n",
    "# print(nums1)\n",
    "# for i in range(1,m+n):\n",
    "#     print(i)\n",
    "#     if nums1[m-i:len(n)]<nums2[n-i]:\n",
    "#         nums1= nums1[m+n-i].append(nums[n-i])\n",
    "#         print(nums1)"
   ]
  },
  {
   "cell_type": "code",
   "execution_count": null,
   "id": "e587b2ea",
   "metadata": {},
   "outputs": [],
   "source": []
  }
 ],
 "metadata": {
  "kernelspec": {
   "display_name": "Python 3 (ipykernel)",
   "language": "python",
   "name": "python3"
  },
  "language_info": {
   "codemirror_mode": {
    "name": "ipython",
    "version": 3
   },
   "file_extension": ".py",
   "mimetype": "text/x-python",
   "name": "python",
   "nbconvert_exporter": "python",
   "pygments_lexer": "ipython3",
   "version": "3.8.16"
  }
 },
 "nbformat": 4,
 "nbformat_minor": 5
}
